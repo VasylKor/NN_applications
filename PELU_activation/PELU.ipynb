{
 "cells": [
  {
   "cell_type": "code",
   "execution_count": null,
   "id": "brown-nickel",
   "metadata": {},
   "outputs": [],
   "source": [
    "import tensorflow as tf"
   ]
  },
  {
   "cell_type": "markdown",
   "id": "indie-disaster",
   "metadata": {},
   "source": [
    "PELU activation function defined as:\n",
    "\n",
    "$$\n",
    "\\phi(x) =\n",
    "\\Biggl\\{ \n",
    "\\begin{align} \n",
    "\\frac{\\alpha}{\\beta}x & \\;\\; \\text{ if } x \\ge 0 \\\\\n",
    "\\alpha \\left(\\exp\\Bigl(\\frac{x}{\\beta}\\Bigr)- 1\\right) & \\;\\; \\text{ otherwise } \n",
    "\\end{align}\n",
    "\\Bigr.\n",
    "\\,,\n",
    "$$\n",
    "\n",
    "\n",
    "with $\\alpha$ and $\\beta$ as trainable non-negative parameters"
   ]
  },
  {
   "cell_type": "code",
   "execution_count": null,
   "id": "interesting-brazil",
   "metadata": {},
   "outputs": [],
   "source": [
    "class PELU(tf.keras.layers.Layer):\n",
    "    def __init__(self, units=32):\n",
    "        super(PELU, self).__init__()\n",
    "        self.units = units\n",
    "    \n",
    "    def build(self, input_shape):\n",
    "        \n",
    "        def my_init(shape, dtype='float32'):\n",
    "          return tf.random.uniform(shape, minval= 0, maxval=2)\n",
    "\n",
    "        self.a = self.add_weight(shape=(1, self.units),\n",
    "                               initializer=my_init,\n",
    "                               trainable=True, \n",
    "                               constraint=tf.keras.constraints.NonNeg())\n",
    "        self.b = self.add_weight(shape=(1, self.units),\n",
    "                               initializer=my_init,\n",
    "                               trainable=True,\n",
    "                               constraint=tf.keras.constraints.NonNeg())\n",
    "        \n",
    "          \n",
    "    def call(self, inputs):\n",
    "\n",
    "        #Masking \n",
    "        p = tf.cast((inputs > -1e-16), tf.float32)\n",
    "        n = tf.cast((inputs <= -1e-16), tf.float32)\n",
    "        \n",
    "        pos = ((self.a**2)/((self.b+1e-6)**2))*(inputs*p)\n",
    "        neg = (self.a**2)*(\n",
    "            tf.exp((tf.divide((inputs*n),((self.b+1e-6)**2))))-1)\n",
    "\n",
    "        return pos + neg\n"
   ]
  }
 ],
 "metadata": {
  "kernelspec": {
   "display_name": "Python 3",
   "language": "python",
   "name": "python3"
  },
  "language_info": {
   "codemirror_mode": {
    "name": "ipython",
    "version": 3
   },
   "file_extension": ".py",
   "mimetype": "text/x-python",
   "name": "python",
   "nbconvert_exporter": "python",
   "pygments_lexer": "ipython3",
   "version": "3.7.9"
  }
 },
 "nbformat": 4,
 "nbformat_minor": 5
}
